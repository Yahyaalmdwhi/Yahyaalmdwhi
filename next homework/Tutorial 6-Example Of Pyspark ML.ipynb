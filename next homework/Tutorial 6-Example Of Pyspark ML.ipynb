{
 "cells": [
  {
   "cell_type": "markdown",
   "id": "16da6c54",
   "metadata": {},
   "source": [
    "### Examples Of Pyspark ML"
   ]
  },
  {
   "cell_type": "code",
   "execution_count": 1,
   "id": "0b9da3ad",
   "metadata": {},
   "outputs": [],
   "source": [
    "from pyspark.sql import SparkSession\n",
    "spark=SparkSession.builder.appName('Missing').getOrCreate()"
   ]
  },
  {
   "cell_type": "code",
   "execution_count": 2,
   "id": "735525da",
   "metadata": {},
   "outputs": [],
   "source": [
    "## Read The dataset\n",
    "training = spark.read.csv('fx_rates_sample.csv',header=True,inferSchema=True)"
   ]
  },
  {
   "cell_type": "code",
   "execution_count": 3,
   "id": "d6e038c9",
   "metadata": {},
   "outputs": [
    {
     "name": "stdout",
     "output_type": "stream",
     "text": [
      "+-------------------+----+---+--------+----------+--------+\n",
      "|          timestamp|base|USD|     SAR|       YER|     EUR|\n",
      "+-------------------+----+---+--------+----------+--------+\n",
      "|2025-09-01 09:00:00| USD|1.0|3.750305|249.969495|0.849856|\n",
      "|2025-09-01 09:01:00| USD|1.0|3.749265|250.046174|0.851548|\n",
      "|2025-09-01 09:02:00| USD|1.0|3.750015|250.246139|0.848127|\n",
      "|2025-09-01 09:03:00| USD|1.0|3.750956|250.034432|0.845882|\n",
      "|2025-09-01 09:04:00| USD|1.0|3.749005| 250.00943|0.844497|\n",
      "|2025-09-01 09:05:00| USD|1.0|3.747703|250.305721|0.846689|\n",
      "|2025-09-01 09:06:00| USD|1.0| 3.74783|250.157004|0.847113|\n",
      "|2025-09-01 09:07:00| USD|1.0|3.747514|249.992554|0.848264|\n",
      "|2025-09-01 09:08:00| USD|1.0|3.747497|250.033015|0.846554|\n",
      "|2025-09-01 09:09:00| USD|1.0|3.746644|250.201892|0.844874|\n",
      "|2025-09-01 09:10:00| USD|1.0|3.747524|250.204177|0.845546|\n",
      "|2025-09-01 09:11:00| USD|1.0|3.748301|250.469969|0.845634|\n",
      "|2025-09-01 09:12:00| USD|1.0|3.748368|250.641328|0.846457|\n",
      "|2025-09-01 09:13:00| USD|1.0|3.749495|250.809692|0.846175|\n",
      "|2025-09-01 09:14:00| USD|1.0|3.749962|250.920515|0.846592|\n",
      "|2025-09-01 09:15:00| USD|1.0|3.749103|251.386046| 0.84683|\n",
      "|2025-09-01 09:16:00| USD|1.0|3.749472|251.345014|0.847996|\n",
      "|2025-09-01 09:17:00| USD|1.0|3.748513|250.944309|0.849207|\n",
      "|2025-09-01 09:18:00| USD|1.0|3.749391| 251.26516|0.846777|\n",
      "|2025-09-01 09:19:00| USD|1.0|3.749341| 251.17362|0.843406|\n",
      "+-------------------+----+---+--------+----------+--------+\n",
      "only showing top 20 rows\n"
     ]
    }
   ],
   "source": [
    "training.show()\n",
    "\n"
   ]
  },
  {
   "cell_type": "code",
   "execution_count": 4,
   "id": "6b3dd5ff",
   "metadata": {},
   "outputs": [
    {
     "name": "stdout",
     "output_type": "stream",
     "text": [
      "root\n",
      " |-- timestamp: timestamp (nullable = true)\n",
      " |-- base: string (nullable = true)\n",
      " |-- USD: double (nullable = true)\n",
      " |-- SAR: double (nullable = true)\n",
      " |-- YER: double (nullable = true)\n",
      " |-- EUR: double (nullable = true)\n",
      "\n"
     ]
    }
   ],
   "source": [
    "training.printSchema()"
   ]
  },
  {
   "cell_type": "code",
   "execution_count": 5,
   "id": "5d3227e6",
   "metadata": {},
   "outputs": [
    {
     "data": {
      "text/plain": [
       "['timestamp', 'base', 'USD', 'SAR', 'YER', 'EUR']"
      ]
     },
     "execution_count": 5,
     "metadata": {},
     "output_type": "execute_result"
    }
   ],
   "source": [
    "training.columns"
   ]
  },
  {
   "cell_type": "code",
   "execution_count": 6,
   "id": "cffef5b9",
   "metadata": {},
   "outputs": [],
   "source": [
    "# [Age,Experience]----> new feature--->independent feature"
   ]
  },
  {
   "cell_type": "code",
   "execution_count": 7,
   "id": "e6273555",
   "metadata": {},
   "outputs": [],
   "source": [
    "from pyspark.ml.feature import VectorAssembler\n",
    "featureassembler = VectorAssembler(\n",
    "    inputCols=['USD','SAR','EUR'],   # كلّها موجودة و رقمية\n",
    "    outputCol='features')"
   ]
  },
  {
   "cell_type": "code",
   "execution_count": 8,
   "id": "0b69744c",
   "metadata": {},
   "outputs": [],
   "source": [
    "output=featureassembler.transform(training)"
   ]
  },
  {
   "cell_type": "code",
   "execution_count": 9,
   "id": "60961194",
   "metadata": {},
   "outputs": [
    {
     "name": "stdout",
     "output_type": "stream",
     "text": [
      "+-------------------+----+---+--------+----------+--------+--------------------+\n",
      "|          timestamp|base|USD|     SAR|       YER|     EUR|            features|\n",
      "+-------------------+----+---+--------+----------+--------+--------------------+\n",
      "|2025-09-01 09:00:00| USD|1.0|3.750305|249.969495|0.849856|[1.0,3.750305,0.8...|\n",
      "|2025-09-01 09:01:00| USD|1.0|3.749265|250.046174|0.851548|[1.0,3.749265,0.8...|\n",
      "|2025-09-01 09:02:00| USD|1.0|3.750015|250.246139|0.848127|[1.0,3.750015,0.8...|\n",
      "|2025-09-01 09:03:00| USD|1.0|3.750956|250.034432|0.845882|[1.0,3.750956,0.8...|\n",
      "|2025-09-01 09:04:00| USD|1.0|3.749005| 250.00943|0.844497|[1.0,3.749005,0.8...|\n",
      "|2025-09-01 09:05:00| USD|1.0|3.747703|250.305721|0.846689|[1.0,3.747703,0.8...|\n",
      "|2025-09-01 09:06:00| USD|1.0| 3.74783|250.157004|0.847113|[1.0,3.74783,0.84...|\n",
      "|2025-09-01 09:07:00| USD|1.0|3.747514|249.992554|0.848264|[1.0,3.747514,0.8...|\n",
      "|2025-09-01 09:08:00| USD|1.0|3.747497|250.033015|0.846554|[1.0,3.747497,0.8...|\n",
      "|2025-09-01 09:09:00| USD|1.0|3.746644|250.201892|0.844874|[1.0,3.746644,0.8...|\n",
      "|2025-09-01 09:10:00| USD|1.0|3.747524|250.204177|0.845546|[1.0,3.747524,0.8...|\n",
      "|2025-09-01 09:11:00| USD|1.0|3.748301|250.469969|0.845634|[1.0,3.748301,0.8...|\n",
      "|2025-09-01 09:12:00| USD|1.0|3.748368|250.641328|0.846457|[1.0,3.748368,0.8...|\n",
      "|2025-09-01 09:13:00| USD|1.0|3.749495|250.809692|0.846175|[1.0,3.749495,0.8...|\n",
      "|2025-09-01 09:14:00| USD|1.0|3.749962|250.920515|0.846592|[1.0,3.749962,0.8...|\n",
      "|2025-09-01 09:15:00| USD|1.0|3.749103|251.386046| 0.84683|[1.0,3.749103,0.8...|\n",
      "|2025-09-01 09:16:00| USD|1.0|3.749472|251.345014|0.847996|[1.0,3.749472,0.8...|\n",
      "|2025-09-01 09:17:00| USD|1.0|3.748513|250.944309|0.849207|[1.0,3.748513,0.8...|\n",
      "|2025-09-01 09:18:00| USD|1.0|3.749391| 251.26516|0.846777|[1.0,3.749391,0.8...|\n",
      "|2025-09-01 09:19:00| USD|1.0|3.749341| 251.17362|0.843406|[1.0,3.749341,0.8...|\n",
      "+-------------------+----+---+--------+----------+--------+--------------------+\n",
      "only showing top 20 rows\n"
     ]
    }
   ],
   "source": [
    "output.show()"
   ]
  },
  {
   "cell_type": "code",
   "execution_count": 10,
   "id": "2c27434a",
   "metadata": {},
   "outputs": [
    {
     "data": {
      "text/plain": [
       "['timestamp', 'base', 'USD', 'SAR', 'YER', 'EUR', 'features']"
      ]
     },
     "execution_count": 10,
     "metadata": {},
     "output_type": "execute_result"
    }
   ],
   "source": [
    "output.columns"
   ]
  },
  {
   "cell_type": "code",
   "execution_count": 11,
   "id": "54a0ccab",
   "metadata": {},
   "outputs": [],
   "source": [
    "finalized_data = output.select(\"features\",\"YER\")\n"
   ]
  },
  {
   "cell_type": "code",
   "execution_count": 12,
   "id": "f7a73845",
   "metadata": {},
   "outputs": [
    {
     "name": "stdout",
     "output_type": "stream",
     "text": [
      "+--------------------+----------+\n",
      "|            features|       YER|\n",
      "+--------------------+----------+\n",
      "|[1.0,3.750305,0.8...|249.969495|\n",
      "|[1.0,3.749265,0.8...|250.046174|\n",
      "|[1.0,3.750015,0.8...|250.246139|\n",
      "|[1.0,3.750956,0.8...|250.034432|\n",
      "|[1.0,3.749005,0.8...| 250.00943|\n",
      "|[1.0,3.747703,0.8...|250.305721|\n",
      "|[1.0,3.74783,0.84...|250.157004|\n",
      "|[1.0,3.747514,0.8...|249.992554|\n",
      "|[1.0,3.747497,0.8...|250.033015|\n",
      "|[1.0,3.746644,0.8...|250.201892|\n",
      "|[1.0,3.747524,0.8...|250.204177|\n",
      "|[1.0,3.748301,0.8...|250.469969|\n",
      "|[1.0,3.748368,0.8...|250.641328|\n",
      "|[1.0,3.749495,0.8...|250.809692|\n",
      "|[1.0,3.749962,0.8...|250.920515|\n",
      "|[1.0,3.749103,0.8...|251.386046|\n",
      "|[1.0,3.749472,0.8...|251.345014|\n",
      "|[1.0,3.748513,0.8...|250.944309|\n",
      "|[1.0,3.749391,0.8...| 251.26516|\n",
      "|[1.0,3.749341,0.8...| 251.17362|\n",
      "+--------------------+----------+\n",
      "only showing top 20 rows\n"
     ]
    }
   ],
   "source": [
    "finalized_data.show()"
   ]
  },
  {
   "cell_type": "code",
   "execution_count": 13,
   "id": "0b11192b",
   "metadata": {},
   "outputs": [],
   "source": [
    "from pyspark.ml.regression import LinearRegression\n",
    "\n",
    "train_data, test_data = finalized_data.randomSplit([0.75,0.25])\n",
    "regressor = LinearRegression(featuresCol='features', labelCol='YER')\n",
    "model = regressor.fit(train_data)\n"
   ]
  },
  {
   "cell_type": "code",
   "execution_count": 14,
   "id": "fa4ec997",
   "metadata": {},
   "outputs": [
    {
     "name": "stdout",
     "output_type": "stream",
     "text": [
      "Coefficients: [0.0,128.3369297533059,-13.608200350925234]\n",
      "Intercept: -220.493039101368\n"
     ]
    }
   ],
   "source": [
    "from pyspark.ml.regression import LinearRegression\n",
    "\n",
    "train_data, test_data = finalized_data.randomSplit([0.75, 0.25])\n",
    "\n",
    "regressor = LinearRegression(featuresCol='features', labelCol='YER')\n",
    "model = regressor.fit(train_data)   # هذا هو الـ LinearRegressionModel\n",
    "\n",
    "# المعاملات والانحراف (intercept)\n",
    "print(\"Coefficients:\", model.coefficients)\n",
    "print(\"Intercept:\", model.intercept)\n"
   ]
  },
  {
   "cell_type": "code",
   "execution_count": 15,
   "id": "2ba2bc70",
   "metadata": {},
   "outputs": [
    {
     "name": "stdout",
     "output_type": "stream",
     "text": [
      "+--------------------+----------+------------------+\n",
      "|            features|       YER|        prediction|\n",
      "+--------------------+----------+------------------+\n",
      "|[1.0,3.735364,0.8...|247.622996|247.37792408053454|\n",
      "|[1.0,3.737291,0.8...|246.402458|247.60194571336868|\n",
      "|[1.0,3.737635,0.8...|247.221087|247.70836474200965|\n",
      "|[1.0,3.737676,0.8...|247.350764|247.63522971390788|\n",
      "|[1.0,3.737811,0.8...|247.475882|247.70070101226614|\n",
      "+--------------------+----------+------------------+\n",
      "only showing top 5 rows\n"
     ]
    }
   ],
   "source": [
    "### Prediction\n",
    "\n",
    "predictions = model.transform(test_data)\n",
    "predictions.show(5)\n"
   ]
  },
  {
   "cell_type": "code",
   "execution_count": 16,
   "id": "489d6392",
   "metadata": {},
   "outputs": [
    {
     "name": "stdout",
     "output_type": "stream",
     "text": [
      "+--------------------+----------+------------------+\n",
      "|            features|       YER|        prediction|\n",
      "+--------------------+----------+------------------+\n",
      "|[1.0,3.735364,0.8...|247.622996|247.37792408053454|\n",
      "|[1.0,3.737291,0.8...|246.402458|247.60194571336868|\n",
      "|[1.0,3.737635,0.8...|247.221087|247.70836474200965|\n",
      "|[1.0,3.737676,0.8...|247.350764|247.63522971390788|\n",
      "|[1.0,3.737811,0.8...|247.475882|247.70070101226614|\n",
      "+--------------------+----------+------------------+\n",
      "only showing top 5 rows\n"
     ]
    }
   ],
   "source": [
    "predictions = model.transform(test_data)\n",
    "predictions.show(5)\n"
   ]
  },
  {
   "cell_type": "code",
   "execution_count": 17,
   "id": "0534e854",
   "metadata": {},
   "outputs": [],
   "source": [
    "from pyspark.ml.regression import LinearRegression\n",
    "\n",
    "# تقسيم البيانات\n",
    "train_data, test_data = finalized_data.randomSplit([0.75, 0.25])\n",
    "\n",
    "# إنشاء النموذج وتدريبه\n",
    "regressor = LinearRegression(featuresCol='features', labelCol='YER')\n",
    "model = regressor.fit(train_data)\n",
    "\n",
    "# تقييم النموذج\n",
    "pred_results = model.evaluate(test_data)\n"
   ]
  },
  {
   "cell_type": "code",
   "execution_count": null,
   "id": "70de559b",
   "metadata": {},
   "outputs": [],
   "source": []
  }
 ],
 "metadata": {
  "kernelspec": {
   "display_name": ".venv",
   "language": "python",
   "name": "python3"
  },
  "language_info": {
   "codemirror_mode": {
    "name": "ipython",
    "version": 3
   },
   "file_extension": ".py",
   "mimetype": "text/x-python",
   "name": "python",
   "nbconvert_exporter": "python",
   "pygments_lexer": "ipython3",
   "version": "3.11.9"
  }
 },
 "nbformat": 4,
 "nbformat_minor": 5
}
