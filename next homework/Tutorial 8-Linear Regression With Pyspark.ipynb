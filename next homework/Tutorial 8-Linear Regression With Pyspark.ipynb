{
 "cells": [
  {
   "cell_type": "markdown",
   "metadata": {
    "application/vnd.databricks.v1+cell": {
     "inputWidgets": {},
     "nuid": "96816ed7-b08a-4ca3-abb9-f99880c3535d",
     "showTitle": false,
     "title": ""
    }
   },
   "source": [
    "## Overview\n",
    "\n",
    "This notebook will show you how to create and query a table or DataFrame that you uploaded to DBFS. [DBFS](https://docs.databricks.com/user-guide/dbfs-databricks-file-system.html) is a Databricks File System that allows you to store data for querying inside of Databricks. This notebook assumes that you have a file already inside of DBFS that you would like to read from.\n",
    "\n",
    "This notebook is written in **Python** so the default cell type is Python. However, you can use different languages by using the `%LANGUAGE` syntax. Python, Scala, SQL, and R are all supported."
   ]
  },
  {
   "cell_type": "code",
   "execution_count": 1,
   "metadata": {
    "application/vnd.databricks.v1+cell": {
     "inputWidgets": {},
     "nuid": "6482be4c-f067-47c9-b0ac-35c938b94601",
     "showTitle": false,
     "title": ""
    }
   },
   "outputs": [
    {
     "name": "stdout",
     "output_type": "stream",
     "text": [
      "+-------------------+----+---+--------+----------+--------+\n",
      "|          timestamp|base|USD|     SAR|       YER|     EUR|\n",
      "+-------------------+----+---+--------+----------+--------+\n",
      "|2025-09-01 09:00:00| USD|1.0|3.750305|249.969495|0.849856|\n",
      "|2025-09-01 09:01:00| USD|1.0|3.749265|250.046174|0.851548|\n",
      "|2025-09-01 09:02:00| USD|1.0|3.750015|250.246139|0.848127|\n",
      "|2025-09-01 09:03:00| USD|1.0|3.750956|250.034432|0.845882|\n",
      "|2025-09-01 09:04:00| USD|1.0|3.749005| 250.00943|0.844497|\n",
      "+-------------------+----+---+--------+----------+--------+\n",
      "only showing top 5 rows\n"
     ]
    }
   ],
   "source": [
    "from pyspark.sql import SparkSession\n",
    "\n",
    "spark = SparkSession.builder.appName(\"FX-READY\").getOrCreate()\n",
    "\n",
    "# بعد ذلك اقرأ الملف\n",
    "file_location = \"fx_rates_sample.csv\"  # أو المسار الفعلي للملف\n",
    "df = spark.read.csv(file_location, header=True, inferSchema=True)\n",
    "df.show(5)\n",
    "\n",
    "\n",
    "\n",
    "\n",
    "\n",
    "\n",
    "\n"
   ]
  },
  {
   "cell_type": "code",
   "execution_count": 2,
   "metadata": {
    "application/vnd.databricks.v1+cell": {
     "inputWidgets": {},
     "nuid": "5e5b80f2-3426-44e1-b86e-171314f4827e",
     "showTitle": false,
     "title": ""
    }
   },
   "outputs": [
    {
     "name": "stdout",
     "output_type": "stream",
     "text": [
      "root\n",
      " |-- timestamp: timestamp (nullable = true)\n",
      " |-- base: string (nullable = true)\n",
      " |-- USD: double (nullable = true)\n",
      " |-- SAR: double (nullable = true)\n",
      " |-- YER: double (nullable = true)\n",
      " |-- EUR: double (nullable = true)\n",
      "\n"
     ]
    }
   ],
   "source": [
    "df.printSchema()"
   ]
  },
  {
   "cell_type": "code",
   "execution_count": 3,
   "metadata": {
    "application/vnd.databricks.v1+cell": {
     "inputWidgets": {},
     "nuid": "0432b71c-b266-417d-b0d5-1c17afa0f090",
     "showTitle": false,
     "title": ""
    }
   },
   "outputs": [
    {
     "data": {
      "text/plain": [
       "['timestamp', 'base', 'USD', 'SAR', 'YER', 'EUR']"
      ]
     },
     "execution_count": 3,
     "metadata": {},
     "output_type": "execute_result"
    }
   ],
   "source": [
    "df.columns"
   ]
  },
  {
   "cell_type": "code",
   "execution_count": 4,
   "metadata": {
    "application/vnd.databricks.v1+cell": {
     "inputWidgets": {},
     "nuid": "0ae62ac1-81a6-4b1d-92b9-f85ec9cc93ff",
     "showTitle": false,
     "title": ""
    }
   },
   "outputs": [],
   "source": [
    "### Handling Categorical Features\n",
    "from pyspark.ml.feature import StringIndexer"
   ]
  },
  {
   "cell_type": "code",
   "execution_count": 5,
   "metadata": {
    "application/vnd.databricks.v1+cell": {
     "inputWidgets": {},
     "nuid": "faa6f9b0-6f8b-4dbd-a5a2-dc074181f2e3",
     "showTitle": false,
     "title": ""
    }
   },
   "outputs": [
    {
     "name": "stdout",
     "output_type": "stream",
     "text": [
      "+-------------------+----+---+--------+----------+--------+\n",
      "|          timestamp|base|USD|     SAR|       YER|     EUR|\n",
      "+-------------------+----+---+--------+----------+--------+\n",
      "|2025-09-01 09:00:00| USD|1.0|3.750305|249.969495|0.849856|\n",
      "|2025-09-01 09:01:00| USD|1.0|3.749265|250.046174|0.851548|\n",
      "|2025-09-01 09:02:00| USD|1.0|3.750015|250.246139|0.848127|\n",
      "|2025-09-01 09:03:00| USD|1.0|3.750956|250.034432|0.845882|\n",
      "|2025-09-01 09:04:00| USD|1.0|3.749005| 250.00943|0.844497|\n",
      "|2025-09-01 09:05:00| USD|1.0|3.747703|250.305721|0.846689|\n",
      "|2025-09-01 09:06:00| USD|1.0| 3.74783|250.157004|0.847113|\n",
      "|2025-09-01 09:07:00| USD|1.0|3.747514|249.992554|0.848264|\n",
      "|2025-09-01 09:08:00| USD|1.0|3.747497|250.033015|0.846554|\n",
      "|2025-09-01 09:09:00| USD|1.0|3.746644|250.201892|0.844874|\n",
      "|2025-09-01 09:10:00| USD|1.0|3.747524|250.204177|0.845546|\n",
      "|2025-09-01 09:11:00| USD|1.0|3.748301|250.469969|0.845634|\n",
      "|2025-09-01 09:12:00| USD|1.0|3.748368|250.641328|0.846457|\n",
      "|2025-09-01 09:13:00| USD|1.0|3.749495|250.809692|0.846175|\n",
      "|2025-09-01 09:14:00| USD|1.0|3.749962|250.920515|0.846592|\n",
      "|2025-09-01 09:15:00| USD|1.0|3.749103|251.386046| 0.84683|\n",
      "|2025-09-01 09:16:00| USD|1.0|3.749472|251.345014|0.847996|\n",
      "|2025-09-01 09:17:00| USD|1.0|3.748513|250.944309|0.849207|\n",
      "|2025-09-01 09:18:00| USD|1.0|3.749391| 251.26516|0.846777|\n",
      "|2025-09-01 09:19:00| USD|1.0|3.749341| 251.17362|0.843406|\n",
      "+-------------------+----+---+--------+----------+--------+\n",
      "only showing top 20 rows\n"
     ]
    }
   ],
   "source": [
    "df.show()"
   ]
  },
  {
   "cell_type": "code",
   "execution_count": 6,
   "metadata": {
    "application/vnd.databricks.v1+cell": {
     "inputWidgets": {},
     "nuid": "2ee7ab64-9804-4afb-852c-ee02eb5d3a20",
     "showTitle": false,
     "title": ""
    }
   },
   "outputs": [
    {
     "name": "stdout",
     "output_type": "stream",
     "text": [
      "+-------------------+----+---+--------+----------+--------+------------+\n",
      "|          timestamp|base|USD|     SAR|       YER|     EUR|base_indexed|\n",
      "+-------------------+----+---+--------+----------+--------+------------+\n",
      "|2025-09-01 09:00:00| USD|1.0|3.750305|249.969495|0.849856|         0.0|\n",
      "|2025-09-01 09:01:00| USD|1.0|3.749265|250.046174|0.851548|         0.0|\n",
      "|2025-09-01 09:02:00| USD|1.0|3.750015|250.246139|0.848127|         0.0|\n",
      "|2025-09-01 09:03:00| USD|1.0|3.750956|250.034432|0.845882|         0.0|\n",
      "|2025-09-01 09:04:00| USD|1.0|3.749005| 250.00943|0.844497|         0.0|\n",
      "+-------------------+----+---+--------+----------+--------+------------+\n",
      "only showing top 5 rows\n"
     ]
    }
   ],
   "source": [
    "indexer = StringIndexer(inputCol=\"base\", outputCol=\"base_indexed\")\n",
    "df_r = indexer.fit(df).transform(df)\n",
    "df_r.show(5)"
   ]
  },
  {
   "cell_type": "code",
   "execution_count": 7,
   "metadata": {
    "application/vnd.databricks.v1+cell": {
     "inputWidgets": {},
     "nuid": "6b95d734-4c80-4762-bd9b-92b6a107dced",
     "showTitle": false,
     "title": ""
    }
   },
   "outputs": [
    {
     "name": "stdout",
     "output_type": "stream",
     "text": [
      "+-------------------+----+---+--------+----------+--------+------------+\n",
      "|          timestamp|base|USD|     SAR|       YER|     EUR|base_indexed|\n",
      "+-------------------+----+---+--------+----------+--------+------------+\n",
      "|2025-09-01 09:00:00| USD|1.0|3.750305|249.969495|0.849856|         0.0|\n",
      "|2025-09-01 09:01:00| USD|1.0|3.749265|250.046174|0.851548|         0.0|\n",
      "|2025-09-01 09:02:00| USD|1.0|3.750015|250.246139|0.848127|         0.0|\n",
      "|2025-09-01 09:03:00| USD|1.0|3.750956|250.034432|0.845882|         0.0|\n",
      "|2025-09-01 09:04:00| USD|1.0|3.749005| 250.00943|0.844497|         0.0|\n",
      "+-------------------+----+---+--------+----------+--------+------------+\n",
      "only showing top 5 rows\n"
     ]
    }
   ],
   "source": [
    "indexer = StringIndexer(inputCol=\"base\", outputCol=\"base_indexed\")\n",
    "df_r = indexer.fit(df).transform(df)\n",
    "df_r.show(5)"
   ]
  },
  {
   "cell_type": "code",
   "execution_count": 8,
   "metadata": {
    "application/vnd.databricks.v1+cell": {
     "inputWidgets": {},
     "nuid": "a9909b0b-caee-4838-b477-47c3701dbfd4",
     "showTitle": false,
     "title": ""
    }
   },
   "outputs": [
    {
     "data": {
      "text/plain": [
       "['timestamp', 'base', 'USD', 'SAR', 'YER', 'EUR', 'base_indexed']"
      ]
     },
     "execution_count": 8,
     "metadata": {},
     "output_type": "execute_result"
    }
   ],
   "source": [
    "df_r.columns"
   ]
  },
  {
   "cell_type": "code",
   "execution_count": 9,
   "metadata": {
    "application/vnd.databricks.v1+cell": {
     "inputWidgets": {},
     "nuid": "61d875e5-71fa-4dc4-ae90-54924b00a632",
     "showTitle": false,
     "title": ""
    }
   },
   "outputs": [
    {
     "name": "stdout",
     "output_type": "stream",
     "text": [
      "+--------------------+\n",
      "|            features|\n",
      "+--------------------+\n",
      "|[1.0,3.750305,249...|\n",
      "|[1.0,3.749265,250...|\n",
      "|[1.0,3.750015,250...|\n",
      "|[1.0,3.750956,250...|\n",
      "|[1.0,3.749005,250...|\n",
      "+--------------------+\n",
      "only showing top 5 rows\n"
     ]
    }
   ],
   "source": [
    "from pyspark.ml.feature import VectorAssembler\n",
    "featureassembler = VectorAssembler(\n",
    "    inputCols=['USD', 'SAR', 'YER', 'EUR'],  # الأعمدة الرقمية الموجودة\n",
    "    outputCol='features'\n",
    ")\n",
    "\n",
    "output = featureassembler.transform(df_r)  # أو df إذا لم تعدّل الاسم\n",
    "output.select('features').show(5)"
   ]
  },
  {
   "cell_type": "code",
   "execution_count": 10,
   "metadata": {
    "application/vnd.databricks.v1+cell": {
     "inputWidgets": {},
     "nuid": "d33d1178-95a2-468f-a94a-e0eebc67be86",
     "showTitle": false,
     "title": ""
    }
   },
   "outputs": [
    {
     "name": "stdout",
     "output_type": "stream",
     "text": [
      "+--------------------+\n",
      "|            features|\n",
      "+--------------------+\n",
      "|[1.0,3.750305,249...|\n",
      "|[1.0,3.749265,250...|\n",
      "|[1.0,3.750015,250...|\n",
      "|[1.0,3.750956,250...|\n",
      "|[1.0,3.749005,250...|\n",
      "+--------------------+\n",
      "only showing top 5 rows\n"
     ]
    }
   ],
   "source": [
    "output.select('features').show(5)\n"
   ]
  },
  {
   "cell_type": "code",
   "execution_count": 11,
   "metadata": {
    "application/vnd.databricks.v1+cell": {
     "inputWidgets": {},
     "nuid": "f2646b66-7710-4297-a6e1-156a37e6582d",
     "showTitle": false,
     "title": ""
    }
   },
   "outputs": [
    {
     "name": "stdout",
     "output_type": "stream",
     "text": [
      "+-------------------+----+---+--------+----------+--------+------------+--------------------+\n",
      "|          timestamp|base|USD|     SAR|       YER|     EUR|base_indexed|            features|\n",
      "+-------------------+----+---+--------+----------+--------+------------+--------------------+\n",
      "|2025-09-01 09:00:00| USD|1.0|3.750305|249.969495|0.849856|         0.0|[1.0,3.750305,249...|\n",
      "|2025-09-01 09:01:00| USD|1.0|3.749265|250.046174|0.851548|         0.0|[1.0,3.749265,250...|\n",
      "|2025-09-01 09:02:00| USD|1.0|3.750015|250.246139|0.848127|         0.0|[1.0,3.750015,250...|\n",
      "|2025-09-01 09:03:00| USD|1.0|3.750956|250.034432|0.845882|         0.0|[1.0,3.750956,250...|\n",
      "|2025-09-01 09:04:00| USD|1.0|3.749005| 250.00943|0.844497|         0.0|[1.0,3.749005,250...|\n",
      "|2025-09-01 09:05:00| USD|1.0|3.747703|250.305721|0.846689|         0.0|[1.0,3.747703,250...|\n",
      "|2025-09-01 09:06:00| USD|1.0| 3.74783|250.157004|0.847113|         0.0|[1.0,3.74783,250....|\n",
      "|2025-09-01 09:07:00| USD|1.0|3.747514|249.992554|0.848264|         0.0|[1.0,3.747514,249...|\n",
      "|2025-09-01 09:08:00| USD|1.0|3.747497|250.033015|0.846554|         0.0|[1.0,3.747497,250...|\n",
      "|2025-09-01 09:09:00| USD|1.0|3.746644|250.201892|0.844874|         0.0|[1.0,3.746644,250...|\n",
      "|2025-09-01 09:10:00| USD|1.0|3.747524|250.204177|0.845546|         0.0|[1.0,3.747524,250...|\n",
      "|2025-09-01 09:11:00| USD|1.0|3.748301|250.469969|0.845634|         0.0|[1.0,3.748301,250...|\n",
      "|2025-09-01 09:12:00| USD|1.0|3.748368|250.641328|0.846457|         0.0|[1.0,3.748368,250...|\n",
      "|2025-09-01 09:13:00| USD|1.0|3.749495|250.809692|0.846175|         0.0|[1.0,3.749495,250...|\n",
      "|2025-09-01 09:14:00| USD|1.0|3.749962|250.920515|0.846592|         0.0|[1.0,3.749962,250...|\n",
      "|2025-09-01 09:15:00| USD|1.0|3.749103|251.386046| 0.84683|         0.0|[1.0,3.749103,251...|\n",
      "|2025-09-01 09:16:00| USD|1.0|3.749472|251.345014|0.847996|         0.0|[1.0,3.749472,251...|\n",
      "|2025-09-01 09:17:00| USD|1.0|3.748513|250.944309|0.849207|         0.0|[1.0,3.748513,250...|\n",
      "|2025-09-01 09:18:00| USD|1.0|3.749391| 251.26516|0.846777|         0.0|[1.0,3.749391,251...|\n",
      "|2025-09-01 09:19:00| USD|1.0|3.749341| 251.17362|0.843406|         0.0|[1.0,3.749341,251...|\n",
      "+-------------------+----+---+--------+----------+--------+------------+--------------------+\n",
      "only showing top 20 rows\n"
     ]
    }
   ],
   "source": [
    "output.show()"
   ]
  },
  {
   "cell_type": "code",
   "execution_count": 12,
   "metadata": {
    "application/vnd.databricks.v1+cell": {
     "inputWidgets": {},
     "nuid": "d1c1fa4c-c78a-441a-bed9-3bcfcc5af966",
     "showTitle": false,
     "title": ""
    }
   },
   "outputs": [],
   "source": [
    "finalized_data = output.select('features', 'YER')"
   ]
  },
  {
   "cell_type": "code",
   "execution_count": 13,
   "metadata": {
    "application/vnd.databricks.v1+cell": {
     "inputWidgets": {},
     "nuid": "3d14fe7b-bc59-4376-8139-142283af09b0",
     "showTitle": false,
     "title": ""
    }
   },
   "outputs": [
    {
     "name": "stdout",
     "output_type": "stream",
     "text": [
      "+--------------------+----------+\n",
      "|            features|       YER|\n",
      "+--------------------+----------+\n",
      "|[1.0,3.750305,249...|249.969495|\n",
      "|[1.0,3.749265,250...|250.046174|\n",
      "|[1.0,3.750015,250...|250.246139|\n",
      "|[1.0,3.750956,250...|250.034432|\n",
      "|[1.0,3.749005,250...| 250.00943|\n",
      "|[1.0,3.747703,250...|250.305721|\n",
      "|[1.0,3.74783,250....|250.157004|\n",
      "|[1.0,3.747514,249...|249.992554|\n",
      "|[1.0,3.747497,250...|250.033015|\n",
      "|[1.0,3.746644,250...|250.201892|\n",
      "|[1.0,3.747524,250...|250.204177|\n",
      "|[1.0,3.748301,250...|250.469969|\n",
      "|[1.0,3.748368,250...|250.641328|\n",
      "|[1.0,3.749495,250...|250.809692|\n",
      "|[1.0,3.749962,250...|250.920515|\n",
      "|[1.0,3.749103,251...|251.386046|\n",
      "|[1.0,3.749472,251...|251.345014|\n",
      "|[1.0,3.748513,250...|250.944309|\n",
      "|[1.0,3.749391,251...| 251.26516|\n",
      "|[1.0,3.749341,251...| 251.17362|\n",
      "+--------------------+----------+\n",
      "only showing top 20 rows\n"
     ]
    }
   ],
   "source": [
    "finalized_data.show()"
   ]
  },
  {
   "cell_type": "code",
   "execution_count": 14,
   "metadata": {
    "application/vnd.databricks.v1+cell": {
     "inputWidgets": {},
     "nuid": "dbe03a38-e728-40f9-8a53-0b7968b8dc87",
     "showTitle": false,
     "title": ""
    }
   },
   "outputs": [
    {
     "name": "stdout",
     "output_type": "stream",
     "text": [
      "RMSE: 1.5117301064719657\n",
      "R2: 0.09328775126408262\n",
      "+--------------------+----------+------------------+\n",
      "|            features|       YER|        prediction|\n",
      "+--------------------+----------+------------------+\n",
      "|[1.0,3.736651,0.8...| 247.51477|247.46401773241524|\n",
      "|[1.0,3.737278,0.8...|247.163454|247.55448265840516|\n",
      "|[1.0,3.737362,0.8...| 247.19316| 247.5698746795548|\n",
      "|[1.0,3.737703,0.8...|249.728291|247.61894684520502|\n",
      "|[1.0,3.737876,0.8...|249.855786| 247.6352252050914|\n",
      "+--------------------+----------+------------------+\n",
      "only showing top 5 rows\n"
     ]
    }
   ],
   "source": [
    "from pyspark.ml.feature import VectorAssembler\n",
    "from pyspark.ml.regression import LinearRegression\n",
    "\n",
    "# 1) تجهيز الـ features\n",
    "assembler = VectorAssembler(\n",
    "    inputCols=['USD','SAR','EUR','base_indexed'],\n",
    "    outputCol='features'\n",
    ")\n",
    "output = assembler.transform(df_r)\n",
    "finalized_data = output.select('features', 'YER')\n",
    "\n",
    "# 2) تقسيم البيانات\n",
    "train_data, test_data = finalized_data.randomSplit([0.75, 0.25])\n",
    "\n",
    "# 3) تدريب النموذج\n",
    "regressor = LinearRegression(featuresCol='features', labelCol='YER')\n",
    "model = regressor.fit(train_data)\n",
    "\n",
    "# 4) التقييم (هنا نستخدم model وليس regressor)\n",
    "pred_results = model.evaluate(test_data)\n",
    "\n",
    "print(\"RMSE:\", pred_results.rootMeanSquaredError)\n",
    "print(\"R2:\", pred_results.r2)\n",
    "\n",
    "# عرض التنبؤات\n",
    "pred_results.predictions.show(5)\n"
   ]
  },
  {
   "cell_type": "code",
   "execution_count": 15,
   "metadata": {
    "application/vnd.databricks.v1+cell": {
     "inputWidgets": {},
     "nuid": "01d128d2-1a71-44d0-a14c-b0377693547b",
     "showTitle": false,
     "title": ""
    }
   },
   "outputs": [
    {
     "name": "stdout",
     "output_type": "stream",
     "text": [
      "+--------------------+----------+------------------+\n",
      "|            features|       YER|        prediction|\n",
      "+--------------------+----------+------------------+\n",
      "|[1.0,3.736651,0.8...| 247.51477|247.46401773241524|\n",
      "|[1.0,3.737278,0.8...|247.163454|247.55448265840516|\n",
      "|[1.0,3.737362,0.8...| 247.19316| 247.5698746795548|\n",
      "|[1.0,3.737703,0.8...|249.728291|247.61894684520502|\n",
      "|[1.0,3.737876,0.8...|249.855786| 247.6352252050914|\n",
      "|[1.0,3.738307,0.8...| 247.11908|247.67530943356434|\n",
      "|[1.0,3.738344,0.8...|246.743588|247.67015275902327|\n",
      "|[1.0,3.738405,0.8...|246.759906|247.66785653832187|\n",
      "|[1.0,3.738839,0.8...|246.071196|247.74222965020624|\n",
      "|[1.0,3.739009,0.8...|246.930851|247.76921686756185|\n",
      "|[1.0,3.739009,0.8...|247.528082|247.75867485675133|\n",
      "|[1.0,3.739056,0.8...|248.841364|247.73059467450452|\n",
      "|[1.0,3.739105,0.8...|247.173018| 247.7624382659908|\n",
      "|[1.0,3.739234,0.8...|249.375766| 247.7707840422504|\n",
      "|[1.0,3.739247,0.8...|247.880139|247.78575281287942|\n",
      "|[1.0,3.739404,0.8...|247.012371|247.79607898944954|\n",
      "|[1.0,3.739455,0.8...|249.748031|247.83120924746657|\n",
      "|[1.0,3.739539,0.8...|247.191136| 247.8240130068562|\n",
      "|[1.0,3.739543,0.8...|248.858585|247.79036949341327|\n",
      "|[1.0,3.739752,0.8...|249.619372| 247.8439470494876|\n",
      "+--------------------+----------+------------------+\n",
      "only showing top 20 rows\n"
     ]
    }
   ],
   "source": [
    "## Final comparison\n",
    "pred_results.predictions.show()"
   ]
  },
  {
   "cell_type": "code",
   "execution_count": 16,
   "metadata": {
    "application/vnd.databricks.v1+cell": {
     "inputWidgets": {},
     "nuid": "75e3e5b1-0bb4-4dbe-a1ca-08e5a31ee173",
     "showTitle": false,
     "title": ""
    }
   },
   "outputs": [
    {
     "data": {
      "text/plain": [
       "(0.09328775126408262, 1.2273812162726638, 2.285327914813741)"
      ]
     },
     "execution_count": 16,
     "metadata": {},
     "output_type": "execute_result"
    }
   ],
   "source": [
    "### PErformance Metrics\n",
    "pred_results.r2,pred_results.meanAbsoluteError,pred_results.meanSquaredError"
   ]
  },
  {
   "cell_type": "code",
   "execution_count": 0,
   "metadata": {
    "application/vnd.databricks.v1+cell": {
     "inputWidgets": {},
     "nuid": "ce0398a7-7ebd-4f2c-b12e-2ef701925124",
     "showTitle": false,
     "title": ""
    }
   },
   "outputs": [],
   "source": []
  }
 ],
 "metadata": {
  "application/vnd.databricks.v1+notebook": {
   "dashboards": [],
   "language": "python",
   "notebookMetadata": {
    "pythonIndentUnit": 2
   },
   "notebookName": "Tutorial 8-Linear Regression With Pyspark",
   "notebookOrigID": 523045182520803,
   "widgets": {}
  },
  "kernelspec": {
   "display_name": ".venv",
   "language": "python",
   "name": "python3"
  },
  "language_info": {
   "codemirror_mode": {
    "name": "ipython",
    "version": 3
   },
   "file_extension": ".py",
   "mimetype": "text/x-python",
   "name": "python",
   "nbconvert_exporter": "python",
   "pygments_lexer": "ipython3",
   "version": "3.11.9"
  }
 },
 "nbformat": 4,
 "nbformat_minor": 0
}
